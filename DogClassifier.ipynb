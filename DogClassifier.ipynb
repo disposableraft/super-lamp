{
 "cells": [
  {
   "cell_type": "code",
   "execution_count": 1,
   "metadata": {},
   "outputs": [],
   "source": [
    "%reload_ext autoreload\n",
    "%autoreload 2\n",
    "%matplotlib inline"
   ]
  },
  {
   "cell_type": "code",
   "execution_count": 2,
   "metadata": {},
   "outputs": [],
   "source": [
    "from fastai.vision import *"
   ]
  },
  {
   "cell_type": "markdown",
   "metadata": {},
   "source": [
    "##Data and Motivations\n",
    "\n",
    "So the idea here is to make a dog classifier from the [Stanford Dogs dataset](http://vision.stanford.edu/aditya86/ImageNetDogs/). This is basically going to be the same as the pets classifier from the Fast.ai lesson one, but includes more dogs and fewer cats. (My real motivation is that my mom likes huskies and my sister likes german shorthairs, and neither were included in the Fast.ai pet classifier.)\n",
    "\n",
    "This is my first time using Google Cloud and my first try at ML, so I'm going to list everything.\n",
    "\n",
    "To get the dataset I first tried using the fastai function `untar_data`, but this threw the error `ReadError: not a gzip file` because the function expects a `.gz` and the Stanford file is `.tar`. Easy enough: I'm using Google Cloud, so I can just do: \n",
    "\n",
    "`wget http://vision.stanford.edu/aditya86/ImageNetDogs/images.tar`\n",
    "\n",
    "and then unpack it with:\n",
    "\n",
    "`tar -xvf images.tar`\n",
    "\n",
    "\n",
    "**Access to Gcloud**\n",
    "\n",
    "When I first set up the VM it worked like a charm. But the next day when I started it back up I wasn't able to conect to Jupyter notebooks. The original command specified port 8080:\n",
    "\n",
    "`gcloud compute ssh --zone=$ZONE jupyter@$INSTANCE_NAME -- -L 8080:localhost:8080`\n",
    "\n",
    "I noticed that when I started the notebook the server was on `8889`. Reconnecting to the shell with port `8889` did the trick. (Although I'm not sure what changed from yesterday.)"
   ]
  },
  {
   "cell_type": "markdown",
   "metadata": {},
   "source": [
    "## The first attempt\n",
    "\n",
    "```python\n",
    "images_path = \"/home/jupyter/data/StanfordDogs/Images/\"\n",
    "tfms = get_transforms(do_flip=False)\n",
    "data = ImageDataBunch.from_folder(images_path)\n",
    "```\n",
    "\n",
    "Unfortunately, this won't work, because the images aren't split up into subdirectories for `train`, `valid` and `test`, which is the standard for ImageNet-type datasets.\n",
    "\n",
    "The current dataset is structured like so:\n",
    "\n",
    "```\n",
    "- Images/\n",
    "  - n02110185-Siberian_husky\n",
    "    + n02110185_184.jpg\n",
    "    + ...\n",
    "    + ...\n",
    "```\n",
    "\n",
    "(I also don't see german shorthair in this list. Oh well!)\n",
    "\n",
    "So, basically, I need to split the images up such that `ImageDataBunch.from(folder)` can understand it. Like the following:\n",
    "\n",
    "```\n",
    "path\\\n",
    "  train\\\n",
    "    clas1\\\n",
    "    clas2\\\n",
    "    ...\n",
    "  valid\\\n",
    "    clas1\\\n",
    "    clas2\\\n",
    "    ...\n",
    "  test\\\n",
    "  ```\n",
    "  \n",
    "I recently read that people tend to use 50% to 90% for training and the rest for validation.\n",
    "  \n",
    "training data  | .      | .      | .      | test data\n",
    "-------------- |--------|--------|--------|-----------\n",
    "fold 1         | fold 2 | fold 3 | fold 4 | fold 5\n",
    "\n",
    "I'll use folds 1-4 for training, fold 4 for validation and fold 5 for testing.\n",
    "\n",
    "So I need a script that, for each dog folder, moves 60% of the images to `train/`, 20% to `valid` and 20% to `test`. While I'm at it I'll normalize the directory names to get better class names. (They're all over the place in terms of lower- and upper-case.)"
   ]
  },
  {
   "cell_type": "code",
   "execution_count": null,
   "metadata": {},
   "outputs": [],
   "source": []
  }
 ],
 "metadata": {
  "kernelspec": {
   "display_name": "Python 3",
   "language": "python",
   "name": "python3"
  },
  "language_info": {
   "codemirror_mode": {
    "name": "ipython",
    "version": 3
   },
   "file_extension": ".py",
   "mimetype": "text/x-python",
   "name": "python",
   "nbconvert_exporter": "python",
   "pygments_lexer": "ipython3",
   "version": "3.7.3"
  }
 },
 "nbformat": 4,
 "nbformat_minor": 2
}
